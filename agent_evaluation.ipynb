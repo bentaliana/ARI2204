{
 "cells": [
  {
   "cell_type": "markdown",
   "id": "458966c8",
   "metadata": {},
   "source": [
    "# Evaluating the Agents"
   ]
  },
  {
   "cell_type": "markdown",
   "id": "7ce71466",
   "metadata": {},
   "source": [
    "First, a simulator to compare the agents must be built:"
   ]
  },
  {
   "cell_type": "code",
   "execution_count": null,
   "id": "6e07f5b9",
   "metadata": {},
   "outputs": [],
   "source": [
    "from Blackjack.Round import Round\n",
    "from Blackjack.Dealer import Dealer\n",
    "from Blackjack.Action import Action\n",
    "from Blackjack.Agent.MonteCarloOnPolicyAgent import MonteCarloOnPolicyAgent\n",
    "from Blackjack.Agent.SarsaOnPolicyAgent import SarsaOnPolicyAgent\n",
    "from Blackjack.Agent.Agent import Agent\n",
    "from Blackjack.Action import Action\n",
    "\n",
    "class AgentSimulator():\n",
    "    def __init__(self, agent: Agent):\n",
    "        self.agent = agent\n",
    "        self.round = None\n",
    "\n",
    "    def play_round(self):\n",
    "        self.round = Round()\n",
    "\n",
    "        action = Action.HIT\n",
    "\n",
    "        while action == Action.HIT and self.round.get_terminal_state() is None and self.round.get_sum_for_player(True) [0] != 21:\n",
    "            action = self.agent.get_policy(self.round)\n",
    "\n",
    "            if action == Action.HIT:\n",
    "                self.round.hit()\n",
    "            elif action == Action.STAND:\n",
    "                self.round.stand()\n",
    "\n",
    "            if isinstance(self.agent, SarsaOnPolicyAgent): # agents which update after each action (SARSA)\n",
    "                self.agent.update_agent(self.round, self.agent.get_policy(self.round), self.round.get_terminal_state())\n",
    "\n",
    "        # loss, agent sum went over 21\n",
    "        if self.round.get_terminal_state() is not None: \n",
    "            # agents which update at the end of the episode (Monte Carlo) need to be updated\n",
    "            # note that agents which update after each action (SARSA) already updated after applying the action resulting in a loss\n",
    "            if isinstance(self.agent, MonteCarloOnPolicyAgent):\n",
    "                self.agent.update_agent(self.round)\n",
    "\n",
    "            self.agent.end_episode()\n",
    "\n",
    "            return self.round.get_terminal_state(True)\n",
    "        \n",
    "        # switching turns\n",
    "        if self.round.get_sum_for_player(True) [0] == 21:\n",
    "            self.round.stand() # change turn to dealer\n",
    "\n",
    "        dealer = Dealer()\n",
    "\n",
    "        while dealer.get_policy(self.round.get_sum_for_player(False) [0]) == Action.HIT and self.round.get_terminal_state() == None:\n",
    "            self.round.hit()\n",
    "\n",
    "        # updating agents\n",
    "        if isinstance(self.agent, MonteCarloOnPolicyAgent):\n",
    "            self.agent.update_agent(self.round)\n",
    "        elif isinstance(self.agent, SarsaOnPolicyAgent):\n",
    "            self.agent.update_agent(self.round, Action.STAND, self.round.get_terminal_state(True))\n",
    "\n",
    "        self.agent.end_episode()\n",
    "\n",
    "        return self.round.get_terminal_state(True)\n",
    "\n",
    "    def simulate_games(self, num_games):\n",
    "        results = {\n",
    "            \"wins\": 0,\n",
    "            \"losses\": 0,\n",
    "            \"draws\": 0\n",
    "        }\n",
    "\n",
    "        for _ in range(num_games):\n",
    "            result = self.play_round()\n",
    "\n",
    "            if result == 1:\n",
    "                results [\"wins\"] += 1\n",
    "            elif result == -1:\n",
    "                results [\"losses\"] += 1\n",
    "            else:\n",
    "                results [\"draws\"] += 1\n",
    "\n",
    "        return results"
   ]
  },
  {
   "cell_type": "code",
   "execution_count": 22,
   "id": "ddf9ec26",
   "metadata": {},
   "outputs": [],
   "source": [
    "mcop_agent_1 = MonteCarloOnPolicyAgent(True, 1) # exploring starts, epsilon is 1/k\n",
    "mcop_agent_1_simulator = AgentSimulator(mcop_agent_1)\n",
    "mcop_agent_1_results = mcop_agent_1_simulator.simulate_games(100000)"
   ]
  },
  {
   "cell_type": "code",
   "execution_count": 23,
   "id": "44592574",
   "metadata": {},
   "outputs": [],
   "source": [
    "mcop_agent_2 = MonteCarloOnPolicyAgent(False, 1) # no exploring starts, epsilon is 1/k\n",
    "mcop_agent_2_simulator = AgentSimulator(mcop_agent_2)\n",
    "mcop_agent_2_results = mcop_agent_2_simulator.simulate_games(100000)"
   ]
  },
  {
   "cell_type": "code",
   "execution_count": 24,
   "id": "4cd36b3f",
   "metadata": {},
   "outputs": [],
   "source": [
    "mcop_agent_3 = MonteCarloOnPolicyAgent(False, 2) # no exploring starts, epsilon is e^(-k/1000)\n",
    "mcop_agent_3_simulator = AgentSimulator(mcop_agent_3)\n",
    "mcop_agent_3_results = mcop_agent_3_simulator.simulate_games(100000)"
   ]
  },
  {
   "cell_type": "code",
   "execution_count": 25,
   "id": "87fc145c",
   "metadata": {},
   "outputs": [],
   "source": [
    "mcop_agent_4 = MonteCarloOnPolicyAgent(False, 3) # no exploring starts, epsilon is e^(-k/10000)\n",
    "mcop_agent_4_simulator = AgentSimulator(mcop_agent_4)\n",
    "mcop_agent_4_results = mcop_agent_4_simulator.simulate_games(100000)"
   ]
  },
  {
   "cell_type": "code",
   "execution_count": 26,
   "id": "ae3f903c",
   "metadata": {},
   "outputs": [],
   "source": [
    "sarsa_agent_1 = SarsaOnPolicyAgent(1) # epsilon is 0.1\n",
    "sarsa_agent_1_simulator = AgentSimulator(sarsa_agent_1)\n",
    "sarsa_agent_1_results = sarsa_agent_1_simulator.simulate_games(100000)"
   ]
  },
  {
   "cell_type": "code",
   "execution_count": 27,
   "id": "a4095036",
   "metadata": {},
   "outputs": [],
   "source": [
    "sarsa_agent_2 = SarsaOnPolicyAgent(2) # epsilon is 1/k\n",
    "sarsa_agent_2_simulator = AgentSimulator(sarsa_agent_2)\n",
    "sarsa_agent_2_results = sarsa_agent_2_simulator.simulate_games(100000)"
   ]
  },
  {
   "cell_type": "code",
   "execution_count": 28,
   "id": "86dac7c2",
   "metadata": {},
   "outputs": [],
   "source": [
    "sarsa_agent_3 = SarsaOnPolicyAgent(3) # epsilon is e^(-k/1000)\n",
    "sarsa_agent_3_simulator = AgentSimulator(sarsa_agent_3)\n",
    "sarsa_agent_3_results = sarsa_agent_3_simulator.simulate_games(100000)"
   ]
  },
  {
   "cell_type": "code",
   "execution_count": 29,
   "id": "ecae78c7",
   "metadata": {},
   "outputs": [],
   "source": [
    "sarsa_agent_4 = SarsaOnPolicyAgent(4) # epsilon is e^(-k/10000)\n",
    "sarsa_agent_4_simulator = AgentSimulator(sarsa_agent_4)\n",
    "sarsa_agent_4_results = sarsa_agent_4_simulator.simulate_games(100000)"
   ]
  },
  {
   "cell_type": "code",
   "execution_count": 30,
   "id": "47c27ff3",
   "metadata": {},
   "outputs": [
    {
     "name": "stdout",
     "output_type": "stream",
     "text": [
      "{'wins': 35052, 'losses': 58753, 'draws': 6195}\n",
      "{'wins': 34121, 'losses': 60141, 'draws': 5738}\n",
      "{'wins': 42014, 'losses': 49029, 'draws': 8957}\n",
      "{'wins': 41965, 'losses': 49828, 'draws': 8207}\n"
     ]
    }
   ],
   "source": [
    "print(mcop_agent_1_results)\n",
    "print(mcop_agent_2_results)\n",
    "print(mcop_agent_3_results)\n",
    "print(mcop_agent_4_results)"
   ]
  },
  {
   "cell_type": "code",
   "execution_count": 31,
   "id": "f7b9e0c0",
   "metadata": {},
   "outputs": [
    {
     "name": "stdout",
     "output_type": "stream",
     "text": [
      "{'wins': 41357, 'losses': 51699, 'draws': 6944}\n",
      "{'wins': 42386, 'losses': 50219, 'draws': 7395}\n",
      "{'wins': 42046, 'losses': 50654, 'draws': 7300}\n",
      "{'wins': 41107, 'losses': 52264, 'draws': 6629}\n"
     ]
    }
   ],
   "source": [
    "print(sarsa_agent_1_results)\n",
    "print(sarsa_agent_2_results)\n",
    "print(sarsa_agent_3_results)\n",
    "print(sarsa_agent_4_results)"
   ]
  }
 ],
 "metadata": {
  "kernelspec": {
   "display_name": "Python 3",
   "language": "python",
   "name": "python3"
  },
  "language_info": {
   "codemirror_mode": {
    "name": "ipython",
    "version": 3
   },
   "file_extension": ".py",
   "mimetype": "text/x-python",
   "name": "python",
   "nbconvert_exporter": "python",
   "pygments_lexer": "ipython3",
   "version": "3.11.5"
  }
 },
 "nbformat": 4,
 "nbformat_minor": 5
}
